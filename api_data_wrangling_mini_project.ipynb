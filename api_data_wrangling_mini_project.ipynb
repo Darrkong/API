{
 "cells": [
  {
   "cell_type": "markdown",
   "metadata": {},
   "source": [
    "This exercise will require you to pull some data from the Qunadl API. Qaundl is currently the most widely used aggregator of financial market data."
   ]
  },
  {
   "cell_type": "markdown",
   "metadata": {},
   "source": [
    "As a first step, you will need to register a free account on the http://www.quandl.com website."
   ]
  },
  {
   "cell_type": "markdown",
   "metadata": {},
   "source": [
    "After you register, you will be provided with a unique API key, that you should store:"
   ]
  },
  {
   "cell_type": "code",
   "execution_count": 1,
   "metadata": {},
   "outputs": [],
   "source": [
    "# Store the API key as a string from a config file- according to PEP8, constants are always named in all upper case\n",
    "import configparser\n",
    "\n",
    "config = configparser.ConfigParser()\n",
    "config.read('API_KEYS.ini')\n",
    "config.sections()\n",
    "\n",
    "API_KEY = config['quandl.com']['API_KEY']"
   ]
  },
  {
   "cell_type": "markdown",
   "metadata": {},
   "source": [
    "Qaundl has a large number of data sources, but, unfortunately, most of them require a Premium subscription. Still, there are also a good number of free datasets."
   ]
  },
  {
   "cell_type": "markdown",
   "metadata": {},
   "source": [
    "For this mini project, we will focus on equities data from the Frankfurt Stock Exhange (FSE), which is available for free. We'll try and analyze the stock prices of a company called Carl Zeiss Meditec, which manufactures tools for eye examinations, as well as medical lasers for laser eye surgery: https://www.zeiss.com/meditec/int/home.html. The company is listed under the stock ticker AFX_X."
   ]
  },
  {
   "cell_type": "markdown",
   "metadata": {},
   "source": [
    "You can find the detailed Quandl API instructions here: https://docs.quandl.com/docs/time-series"
   ]
  },
  {
   "cell_type": "markdown",
   "metadata": {},
   "source": [
    "While there is a dedicated Python package for connecting to the Quandl API, we would prefer that you use the *requests* package, which can be easily downloaded using *pip* or *conda*. You can find the documentation for the package here: http://docs.python-requests.org/en/master/ "
   ]
  },
  {
   "cell_type": "markdown",
   "metadata": {},
   "source": [
    "Finally, apart from the *requests* package, you are encouraged to not use any third party Python packages, such as *pandas*, and instead focus on what's available in the Python Standard Library (the *collections* module might come in handy: https://pymotw.com/3/collections/).\n",
    "Also, since you won't have access to DataFrames, you are encouraged to us Python's native data structures - preferably dictionaries, though some questions can also be answered using lists.\n",
    "You can read more on these data structures here: https://docs.python.org/3/tutorial/datastructures.html"
   ]
  },
  {
   "cell_type": "markdown",
   "metadata": {},
   "source": [
    "Keep in mind that the JSON responses you will be getting from the API map almost one-to-one to Python's dictionaries. Unfortunately, they can be very nested, so make sure you read up on indexing dictionaries in the documentation provided above."
   ]
  },
  {
   "cell_type": "code",
   "execution_count": 2,
   "metadata": {},
   "outputs": [],
   "source": [
    "# First, import the relevant modules\n",
    "import requests\n"
   ]
  },
  {
   "cell_type": "code",
   "execution_count": 3,
   "metadata": {},
   "outputs": [],
   "source": [
    "# Now, call the Quandl API and pull out a small sample of the data (only one day) to get a glimpse\n",
    "# into the JSON structure that will be returned\n",
    "API_CALL = \"https://www.quandl.com/api/v3/datasets/WIKI/FB.json?column_index=4&start_date=2014-01-15&end_date=2014-01-16&collapse=daily&transform=rdiff&api_key=\"\n",
    "\n",
    "r = requests.get(API_CALL + API_KEY)"
   ]
  },
  {
   "cell_type": "code",
   "execution_count": 4,
   "metadata": {},
   "outputs": [
    {
     "name": "stdout",
     "output_type": "stream",
     "text": [
      "{'dataset': {'id': 9775687, 'dataset_code': 'FB', 'database_code': 'WIKI', 'name': 'Facebook Inc. (FB) Prices, Dividends, Splits and Trading Volume', 'description': \"End of day open, high, low, close and volume, dividends and splits, and split/dividend adjusted open, high, low close and volume for Facebook, Inc. (FB). Ex-Dividend is non-zero on ex-dividend dates. Split Ratio is 1 on non-split dates. Adjusted prices are calculated per CRSP (www.crsp.com/products/documentation/crsp-calculations)\\n\\nThis data is in the public domain. You may copy, distribute, disseminate or include the data in other products for commercial and/or noncommercial purposes.\\n\\nThis data is part of Quandl's Wiki initiative to get financial data permanently into the public domain. Quandl relies on users like you to flag errors and provide data where data is wrong or missing. Get involved: connect@quandl.com\\n\", 'refreshed_at': '2018-03-27T21:46:11.036Z', 'newest_available_date': '2018-03-27', 'oldest_available_date': '2012-05-18', 'column_names': ['Date', 'Close'], 'frequency': 'daily', 'type': 'Time Series', 'premium': False, 'limit': None, 'transform': 'rdiff', 'column_index': 4, 'start_date': '2014-01-15', 'end_date': '2014-01-16', 'data': [['2014-01-16', -0.0071180555555556]], 'collapse': 'daily', 'order': None, 'database_id': 4922}}\n"
     ]
    }
   ],
   "source": [
    "# Inspect the JSON structure of the object you created, and take note of how nested it is,\n",
    "# as well as the overall structure\n",
    "print(r.json())"
   ]
  },
  {
   "cell_type": "markdown",
   "metadata": {},
   "source": [
    "These are your tasks for this mini project:\n",
    "\n",
    "1. Collect data from the Franfurt Stock Exchange, for the ticker AFX_X, for the whole year 2017 (keep in mind that the date format is YYYY-MM-DD).\n",
    "2. Convert the returned JSON object into a Python dictionary.\n",
    "3. Calculate what the highest and lowest opening prices were for the stock in this period.\n",
    "4. What was the largest change in any one day (based on High and Low price)?\n",
    "5. What was the largest change between any two days (based on Closing Price)?\n",
    "6. What was the average daily trading volume during this year?\n",
    "7. (Optional) What was the median trading volume during this year. (Note: you may need to implement your own function for calculating the median.)"
   ]
  },
  {
   "cell_type": "code",
   "execution_count": 5,
   "metadata": {},
   "outputs": [],
   "source": [
    "#Call to get all columns\n",
    "API_CALL_ALL = \"https://www.quandl.com/api/v3/datasets/FSE/AFX_X.json?start_date=2017-01-01&end_date=2017-12-31&collapse=daily&api_key=\"\n",
    "r = requests.get(API_CALL_ALL + API_KEY)\n",
    "\n",
    "#Call to get closing price, rdiff transformed\n",
    "API_CALL_DIFF = \"https://www.quandl.com/api/v3/datasets/FSE/AFX_X.json?column_index=4&start_date=2017-01-01&end_date=2017-12-31&collapse=daily&transform=diff&api_key=\"\n",
    "r_diff = requests.get(API_CALL_DIFF + API_KEY)"
   ]
  },
  {
   "cell_type": "code",
   "execution_count": 6,
   "metadata": {},
   "outputs": [],
   "source": [
    "#dictionary of all values\n",
    "afx_x = r.json()['dataset']['data']\n",
    "afx_x = {d[0]: d[1:] for d in afx_x}\n",
    "\n",
    "#dictionary of diffference in open prices\n",
    "afx_x_diff = r_diff.json()['dataset']['data']\n",
    "afx_x_diff = {d[0]: d[1] for d in afx_x_diff}"
   ]
  },
  {
   "cell_type": "code",
   "execution_count": 7,
   "metadata": {},
   "outputs": [],
   "source": [
    "dates = []\n",
    "opens = []\n",
    "day_deltas = []\n",
    "volumes = []\n",
    "for date, values in afx_x.items():\n",
    "    dates.append(date)\n",
    "    opens.append(values[0])\n",
    "    volumes.append(values[6])\n",
    "    day_deltas.append(values[1] - values[2])\n",
    "\n",
    "\n",
    "diff_dates = []\n",
    "close_deltas = []\n",
    "for date, value in afx_x_diff.items():\n",
    "    diff_dates.append(date)\n",
    "    close_deltas.append(abs(value))\n"
   ]
  },
  {
   "cell_type": "code",
   "execution_count": 8,
   "metadata": {},
   "outputs": [],
   "source": [
    "#get index of lowest open\n",
    "low_index = opens.index(min(open_val for open_val in opens if open_val is not None))\n",
    "#get index of highest open\n",
    "hi_index = opens.index(max(open_val for open_val in opens if open_val is not None))\n",
    "\n",
    "ans_3a = ('%s had lowest opening: %s' % (dates[low_index], opens[low_index]))\n",
    "ans_3b = ('%s had highest opening: %s' % (dates[hi_index], opens[hi_index]))"
   ]
  },
  {
   "cell_type": "code",
   "execution_count": 9,
   "metadata": {},
   "outputs": [],
   "source": [
    "#get highest within-day change\n",
    "hi_day_delta_index = day_deltas.index(max(delta_val for delta_val in day_deltas if delta_val is not None))\n",
    "\n",
    "ans_4 = ('%s had greatest within day difference: %s' % (dates[hi_day_delta_index], day_deltas[hi_day_delta_index]))"
   ]
  },
  {
   "cell_type": "code",
   "execution_count": 10,
   "metadata": {},
   "outputs": [],
   "source": [
    "#get highest interday change\n",
    "hi_iday_delta_index = close_deltas.index(max(close_delta for close_delta in close_deltas if close_delta is not None))\n",
    "\n",
    "ans_5 = ('%s had greatest between-day difference: %s' % (dates[hi_iday_delta_index], close_deltas[hi_iday_delta_index]))"
   ]
  },
  {
   "cell_type": "code",
   "execution_count": 11,
   "metadata": {},
   "outputs": [],
   "source": [
    "#get average trading volume\n",
    "ans_6 = ('average trading volume: %s' % (sum(volumes)/len(volumes)) )"
   ]
  },
  {
   "cell_type": "code",
   "execution_count": 12,
   "metadata": {},
   "outputs": [],
   "source": [
    "#get median trading volume\n",
    "def median(lst):\n",
    "    n = len(lst)\n",
    "    if n < 1:\n",
    "            return None\n",
    "    if n % 2 == 1:\n",
    "            return sorted(lst)[n//2]\n",
    "    else:\n",
    "            return sum(sorted(lst)[n//2-1:n//2+1])/2.0\n",
    "\n",
    "median(volumes)\n",
    "ans_7 = ('median trading volume: %s' % median(volumes))"
   ]
  },
  {
   "cell_type": "code",
   "execution_count": 13,
   "metadata": {},
   "outputs": [
    {
     "name": "stdout",
     "output_type": "stream",
     "text": [
      "3. Calculate what the highest and lowest opening prices were for the stock in this period \n",
      "\n",
      "2017-01-24 had lowest opening: 34.0\n",
      "2017-12-14 had highest opening: 53.11 \n",
      "\n",
      "4. What was the largest change in any one day (based on High and Low price)? \n",
      "\n",
      "2017-05-11 had greatest within day difference: 2.8100000000000023 \n",
      "\n",
      "5. What was the largest change between any two days (based on Closing Price)? \n",
      "\n",
      "2017-08-09 had greatest between-day difference: 2.56 \n",
      "\n",
      "6. What was the average daily trading volume during this year? \n",
      "\n",
      "average trading volume: 3853589.4509803923 \n",
      "\n",
      "7. What was the median trading volume during this year. (Optional) \n",
      "\n",
      "median trading volume: 3292223.0 \n",
      "\n"
     ]
    }
   ],
   "source": [
    "#print answers\n",
    "\n",
    "print('3. Calculate what the highest and lowest opening prices were for the stock in this period \\n')\n",
    "print(ans_3a)\n",
    "print(ans_3b,'\\n')\n",
    "\n",
    "print('4. What was the largest change in any one day (based on High and Low price)? \\n')\n",
    "print(ans_4,'\\n')\n",
    "\n",
    "print('5. What was the largest change between any two days (based on Closing Price)? \\n')\n",
    "print(ans_5,'\\n')\n",
    "\n",
    "print('6. What was the average daily trading volume during this year? \\n')\n",
    "print(ans_6,'\\n')\n",
    "\n",
    "print('7. What was the median trading volume during this year. (Optional) \\n') \n",
    "print(ans_7,'\\n')"
   ]
  }
 ],
 "metadata": {
  "kernelspec": {
   "display_name": "Python 3",
   "language": "python",
   "name": "python3"
  },
  "language_info": {
   "codemirror_mode": {
    "name": "ipython",
    "version": 3
   },
   "file_extension": ".py",
   "mimetype": "text/x-python",
   "name": "python",
   "nbconvert_exporter": "python",
   "pygments_lexer": "ipython3",
   "version": "3.6.5"
  }
 },
 "nbformat": 4,
 "nbformat_minor": 2
}
